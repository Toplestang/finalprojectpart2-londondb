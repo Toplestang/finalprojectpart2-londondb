{
 "cells": [
  {
   "cell_type": "code",
   "execution_count": 1,
   "id": "341c27e0-b25b-4b07-8d4b-24ce43823c28",
   "metadata": {},
   "outputs": [
    {
     "name": "stderr",
     "output_type": "stream",
     "text": [
      "Warning message in odbcDriverConnect(conn_path):\n",
      "“[RODBC] ERROR: state 08001, code -1336, message [IBM][CLI Driver] SQL1336N  The remote host \"764264db-9824-4b7c-82df-40d1b13897c2.bs2io90108kqb1od81cg.databases.ap\" was not found.  SQLSTATE=08001”Warning message in odbcDriverConnect(conn_path):\n",
      "“ODBC connection failed”"
     ]
    }
   ],
   "source": [
    "library(RODBC);\n",
    "\n",
    "    dsn_driver <- \"{IBM DB2 ODBC Driver}\"\n",
    "    dsn_database <- \"bludb\"            # e.g. \"bludb\"\n",
    "    dsn_hostname <- \"764264db-9824-4b7c-82df-40d1b13897c2.bs2io90108kqb1od81cg.databases.appdomain.cloud\"\n",
    "    dsn_port <- \"32536\"   # e.g. \"32733\" \n",
    "    dsn_protocol <- \"TCPIP\"            # i.e. \"TCPIP\"\n",
    "    dsn_uid <- \"qbq74063\"        # e.g. \"zjh17769\"\n",
    "    dsn_pwd <- \"ZuSK1RsDf41B4Z9n\"      # e.g. \"zcwd4+8gbq9bm5k4\"  \n",
    "    dsn_security <- \"ssl\"\n",
    "\n",
    "    conn_path <- paste(\"DRIVER=\",dsn_driver,\n",
    "                  \";DATABASE=\",dsn_database,\n",
    "                  \";HOSTNAME=\",dsn_hostname,\n",
    "                  \";PORT=\",dsn_port,\n",
    "                  \";PROTOCOL=\",dsn_protocol,\n",
    "                  \";UID=\",dsn_uid,\n",
    "                  \";PWD=\",dsn_pwd,\n",
    "                  \";SECURITY=\",dsn_security,        \n",
    "                    sep=\"\")\n",
    "    conn <- odbcDriverConnect(conn_path)"
   ]
  },
  {
   "cell_type": "code",
   "execution_count": null,
   "id": "ab65b371-5b81-4ac0-995b-69f9a5adf954",
   "metadata": {},
   "outputs": [],
   "source": []
  }
 ],
 "metadata": {
  "kernelspec": {
   "display_name": "R",
   "language": "R",
   "name": "conda-env-r-r"
  },
  "language_info": {
   "codemirror_mode": "r",
   "file_extension": ".r",
   "mimetype": "text/x-r-source",
   "name": "R",
   "pygments_lexer": "r",
   "version": "3.5.1"
  }
 },
 "nbformat": 4,
 "nbformat_minor": 5
}
